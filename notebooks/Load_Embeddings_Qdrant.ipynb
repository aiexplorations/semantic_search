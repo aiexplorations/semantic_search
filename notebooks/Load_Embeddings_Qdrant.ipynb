{
 "cells": [
  {
   "cell_type": "markdown",
   "id": "42a7d032-3d24-4610-a0b7-bc5bc16ea2f0",
   "metadata": {},
   "source": [
    "# Process and load data from the CSV into Qdrant\n",
    "\n",
    "The loading process involves the following:\n",
    "0. Retrieve the data and ensure the data has the required levels of data cleanliness and quality\n",
    "1. Convert the original dataset into a JSON format. Since we will possess semi-structured data in the form of text blurbs of books, these are to be converted to embeddings using a sentence transformer model\n",
    "2. Import a sentence transformer model such as the Mini LM\n",
    "3. Create a collection in Qdrant\n",
    "4. Update the collection with the key value pairs of specific fields within the dataset. For example, with the key as the ISBN, we could update the embeddings computed from the title, from the author's name, from the publisher, or from the blurb\n",
    "5. We then persist these into Qdrant by instantiating a Qdrant client object, and adding to the collection."
   ]
  },
  {
   "cell_type": "markdown",
   "id": "e6922c51-0cf5-415e-b5aa-5294feeac28b",
   "metadata": {},
   "source": [
    "Standard imports for data processing and additional imports for Qdrant and Sentence Transformers"
   ]
  },
  {
   "cell_type": "code",
   "execution_count": 67,
   "id": "df353263-ad39-4323-af10-3c4d15365e87",
   "metadata": {},
   "outputs": [],
   "source": [
    "import pandas as pd\n",
    "import numpy as np\n",
    "import json\n",
    "from qdrant_client import QdrantClient, models\n",
    "from sentence_transformers import SentenceTransformer"
   ]
  },
  {
   "cell_type": "markdown",
   "id": "f9679acc-83e8-4c2e-9e1c-0563f6e2438e",
   "metadata": {},
   "source": [
    "Bringing in the books dataset with blurbs"
   ]
  },
  {
   "cell_type": "code",
   "execution_count": 94,
   "id": "aead6bfb-d8d5-4f40-8877-be4def5d8fb4",
   "metadata": {},
   "outputs": [],
   "source": [
    "df = pd.read_csv(\"../../data/books_with_blurbs.csv\", header=0)"
   ]
  },
  {
   "cell_type": "code",
   "execution_count": 95,
   "id": "d940b752-1e4b-4056-89ba-51223ef7a175",
   "metadata": {},
   "outputs": [
    {
     "data": {
      "text/html": [
       "<div>\n",
       "<style scoped>\n",
       "    .dataframe tbody tr th:only-of-type {\n",
       "        vertical-align: middle;\n",
       "    }\n",
       "\n",
       "    .dataframe tbody tr th {\n",
       "        vertical-align: top;\n",
       "    }\n",
       "\n",
       "    .dataframe thead th {\n",
       "        text-align: right;\n",
       "    }\n",
       "</style>\n",
       "<table border=\"1\" class=\"dataframe\">\n",
       "  <thead>\n",
       "    <tr style=\"text-align: right;\">\n",
       "      <th></th>\n",
       "      <th>ISBN</th>\n",
       "      <th>Title</th>\n",
       "      <th>Author</th>\n",
       "      <th>Year</th>\n",
       "      <th>Publisher</th>\n",
       "      <th>Blurb</th>\n",
       "    </tr>\n",
       "  </thead>\n",
       "  <tbody>\n",
       "    <tr>\n",
       "      <th>0</th>\n",
       "      <td>0060973129</td>\n",
       "      <td>Decision in Normandy</td>\n",
       "      <td>Carlo D'Este</td>\n",
       "      <td>1991</td>\n",
       "      <td>HarperPerennial</td>\n",
       "      <td>Here, for the first time in paperback, is an o...</td>\n",
       "    </tr>\n",
       "    <tr>\n",
       "      <th>1</th>\n",
       "      <td>0374157065</td>\n",
       "      <td>Flu: The Story of the Great Influenza Pandemic...</td>\n",
       "      <td>Gina Bari Kolata</td>\n",
       "      <td>1999</td>\n",
       "      <td>Farrar Straus Giroux</td>\n",
       "      <td>The fascinating, true story of the world's dea...</td>\n",
       "    </tr>\n",
       "    <tr>\n",
       "      <th>2</th>\n",
       "      <td>0399135782</td>\n",
       "      <td>The Kitchen God's Wife</td>\n",
       "      <td>Amy Tan</td>\n",
       "      <td>1991</td>\n",
       "      <td>Putnam Pub Group</td>\n",
       "      <td>Winnie and Helen have kept each others worst s...</td>\n",
       "    </tr>\n",
       "    <tr>\n",
       "      <th>3</th>\n",
       "      <td>0425176428</td>\n",
       "      <td>What If?: The World's Foremost Military Histor...</td>\n",
       "      <td>Robert Cowley</td>\n",
       "      <td>2000</td>\n",
       "      <td>Berkley Publishing Group</td>\n",
       "      <td>Historians and inquisitive laymen alike love t...</td>\n",
       "    </tr>\n",
       "    <tr>\n",
       "      <th>4</th>\n",
       "      <td>1881320189</td>\n",
       "      <td>Goodbye to the Buttermilk Sky</td>\n",
       "      <td>Julia Oliver</td>\n",
       "      <td>1994</td>\n",
       "      <td>River City Pub</td>\n",
       "      <td>This highly praised first novel by fiction wri...</td>\n",
       "    </tr>\n",
       "  </tbody>\n",
       "</table>\n",
       "</div>"
      ],
      "text/plain": [
       "         ISBN                                              Title  \\\n",
       "0  0060973129                               Decision in Normandy   \n",
       "1  0374157065  Flu: The Story of the Great Influenza Pandemic...   \n",
       "2  0399135782                             The Kitchen God's Wife   \n",
       "3  0425176428  What If?: The World's Foremost Military Histor...   \n",
       "4  1881320189                      Goodbye to the Buttermilk Sky   \n",
       "\n",
       "             Author  Year                 Publisher  \\\n",
       "0      Carlo D'Este  1991           HarperPerennial   \n",
       "1  Gina Bari Kolata  1999      Farrar Straus Giroux   \n",
       "2           Amy Tan  1991          Putnam Pub Group   \n",
       "3     Robert Cowley  2000  Berkley Publishing Group   \n",
       "4      Julia Oliver  1994            River City Pub   \n",
       "\n",
       "                                               Blurb  \n",
       "0  Here, for the first time in paperback, is an o...  \n",
       "1  The fascinating, true story of the world's dea...  \n",
       "2  Winnie and Helen have kept each others worst s...  \n",
       "3  Historians and inquisitive laymen alike love t...  \n",
       "4  This highly praised first novel by fiction wri...  "
      ]
     },
     "execution_count": 95,
     "metadata": {},
     "output_type": "execute_result"
    }
   ],
   "source": [
    "df.head()"
   ]
  },
  {
   "cell_type": "markdown",
   "id": "ef2086bd-1e12-4146-b8bd-3a33446938c6",
   "metadata": {},
   "source": [
    "Now that we have checked the dataset, we export this data as JSON to enable loading of the data to Qdrant.\n"
   ]
  },
  {
   "cell_type": "code",
   "execution_count": 150,
   "id": "075c14e4-7e6f-4a55-aede-432521681acd",
   "metadata": {},
   "outputs": [],
   "source": [
    "corpus_size = 500"
   ]
  },
  {
   "cell_type": "code",
   "execution_count": 151,
   "id": "e9074103-4663-4405-918e-ea4aad137135",
   "metadata": {},
   "outputs": [],
   "source": [
    "df[:corpus_size].to_json(\"data.json\", orient=\"records\")"
   ]
  },
  {
   "cell_type": "code",
   "execution_count": 152,
   "id": "85f14772-0aa7-48bf-bd49-6c9f17d68a17",
   "metadata": {},
   "outputs": [],
   "source": [
    "with open(\"data.json\",) as f:\n",
    "    data_json = json.load(f)"
   ]
  },
  {
   "cell_type": "markdown",
   "id": "e87af973-6a46-4e0d-b8b5-5460e873cfcb",
   "metadata": {},
   "source": [
    "The below creates a Qdrant client, as an in memory vector store. For now, we will use the option of persisting the vectors to a Qdrant instance running on local as a docker container, outside the memory of this application."
   ]
  },
  {
   "cell_type": "code",
   "execution_count": 153,
   "id": "d28ac260-2b66-4537-a47f-f1baa8eade00",
   "metadata": {},
   "outputs": [],
   "source": [
    "encoder = SentenceTransformer(\"all-MiniLM-L6-v2\")"
   ]
  },
  {
   "cell_type": "code",
   "execution_count": 154,
   "id": "ce10914c-a694-4a7e-bc17-1ef0182fde51",
   "metadata": {},
   "outputs": [],
   "source": [
    "QC = QdrantClient(\"http://localhost:6333\")"
   ]
  },
  {
   "cell_type": "code",
   "execution_count": 155,
   "id": "361b9935-1993-47aa-ad77-5697f9700e82",
   "metadata": {},
   "outputs": [],
   "source": [
    "def create_new_collection_and_upload_vectors(QC, data, shards, collection_name, collection_field, encoder):\n",
    "    \n",
    "    #delete existing collection\n",
    "    QC.delete_collection(collection_name=f\"{collection_name}\")\n",
    "    \n",
    "    #create collection with same name\n",
    "    QC.create_collection(\n",
    "        collection_name=f\"{collection_name}\",\n",
    "        vectors_config=models.VectorParams(\n",
    "            size=encoder.get_sentence_embedding_dimension(),  # Vector size is defined by used model\n",
    "            distance=models.Distance.COSINE,),\n",
    "        shard_number= shards,\n",
    "    )\n",
    "    \n",
    "    #upload records using the encoder model supplied\n",
    "    QC.upload_records(\n",
    "        collection_name=f\"{collection_name}\",\n",
    "        records=[\n",
    "            models.Record(\n",
    "                id=idx, vector=encoder.encode(record[f\"{collection_field}\"]).tolist(), payload=record\n",
    "            )\n",
    "            for idx, record in enumerate(data_json)\n",
    "        ],\n",
    "    )"
   ]
  },
  {
   "cell_type": "code",
   "execution_count": 156,
   "id": "21ff509d-a006-414f-8a45-d385d321b0c2",
   "metadata": {},
   "outputs": [],
   "source": [
    "collections = {\n",
    "    \"Title\": \"Title\",\n",
    "    \"ISBN\": \"ISBN\",\n",
    "    \"Author\": \"Author\",\n",
    "    \"Publisher\": \"Publisher\",\n",
    "    \"Blurb\": \"Blurb\"\n",
    "}"
   ]
  },
  {
   "cell_type": "code",
   "execution_count": 157,
   "id": "ffc91637-49e9-4f53-b3ac-1dd922354cdc",
   "metadata": {},
   "outputs": [],
   "source": [
    "for collection_name, collection_field in collections.items():\n",
    "    create_new_collection_and_upload_vectors(QC=QC, \n",
    "                                             data=data_json,\n",
    "                                             shards=8,\n",
    "                                             collection_name=collection_name, \n",
    "                                             collection_field=collection_field, \n",
    "                                             encoder=encoder)\n",
    "    "
   ]
  },
  {
   "cell_type": "code",
   "execution_count": 162,
   "id": "6dce37ff-3a59-4577-80ae-a476e414fed9",
   "metadata": {},
   "outputs": [
    {
     "name": "stdout",
     "output_type": "stream",
     "text": [
      "{'Author': 'Ray Bradbury', 'Blurb': 'Im Januar 1999 beginnt die Kolonisation des Planeten Mars. Dort wachsen goldene Früchte an kristallenen Wänden, doch das Leben auf dem Mars ist demjenigen auf der Erde gar nicht so unähnlich...', 'ISBN': '3257208634', 'Publisher': 'Diogenes Verlag', 'Title': 'Die Mars- Chroniken. Roman in ErzÃ?Â¤hlungen.', 'Year': 1981} score: 0.2238886\n",
      "{'Author': 'C.S. Lewis', 'Blurb': 'Dr. Ransom is abducted by a megalomaniacal physicist and taken via space ship to the planet Malacandra (Mars). There, Dr. Ransom finds Malacandra similar to, and yet distinct from, Earth.', 'ISBN': '0684823802', 'Publisher': 'Scribner', 'Title': 'OUT OF THE SILENT PLANET', 'Year': 1996} score: 0.22164167\n",
      "{'Author': 'Neal Barrett Jr.', 'Blurb': 'Babylon 5, designed to be a place of peace in a troubled universe, has erupted into rioting as visiting cultures clash and passions explode. Security chief Garibaldi must use all his skills to quell the violence between races. But the troubles escalate as terrifying nightmares plague everyone on board from Captain Sheridan to Vorlon Ambassador Kosh. It seems as if some \"force\" is touching them all...Then an alien presence appears. A long, twisting band of green light nine million miles long stretches out against the darkness of space on a collision course with Babylon 5. Since it remains invisible to computer sensors, some are calling it an illusion, others are calling it an evil life force. Still others are calling it God. Now, it is up to Captain Sheridan and Garibaldi to find out, risking their lives, and perhaps their souls, to venture forth amond the stars to meet the unknown.', 'ISBN': '0440222303', 'Publisher': 'Dell', 'Title': 'The Touch of Your Shadow, the Whisper of Your Name (Babylon 5, Book 5)', 'Year': 1996} score: 0.21125618\n"
     ]
    }
   ],
   "source": [
    "hits = QC.search(\n",
    "    collection_name=\"Blurb\",\n",
    "    query_vector=encoder.encode(\"natural satellites in the solar system\").tolist(),\n",
    "    limit=3,\n",
    ")\n",
    "for hit in hits:\n",
    "    print(hit.payload, \"score:\", hit.score)"
   ]
  },
  {
   "cell_type": "code",
   "execution_count": null,
   "id": "a65ecdad-c56d-48a7-8c9e-d079b8265c69",
   "metadata": {},
   "outputs": [],
   "source": []
  }
 ],
 "metadata": {
  "kernelspec": {
   "display_name": "Python 3 (ipykernel)",
   "language": "python",
   "name": "python3"
  },
  "language_info": {
   "codemirror_mode": {
    "name": "ipython",
    "version": 3
   },
   "file_extension": ".py",
   "mimetype": "text/x-python",
   "name": "python",
   "nbconvert_exporter": "python",
   "pygments_lexer": "ipython3",
   "version": "3.9.12"
  }
 },
 "nbformat": 4,
 "nbformat_minor": 5
}
